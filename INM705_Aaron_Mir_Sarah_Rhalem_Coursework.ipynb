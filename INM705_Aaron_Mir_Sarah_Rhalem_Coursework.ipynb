{
 "cells": [
  {
   "cell_type": "markdown",
   "metadata": {},
   "source": [
    "# INM705 Coursework\n",
    "### Aaron Mir (Student Number: 160001207) and Sarah Rhalem (Student Number: 190051884)"
   ]
  },
  {
   "cell_type": "markdown",
   "metadata": {},
   "source": [
    "This is from the INM701 coursework guidelines but I am keeping it here because it has some good points in it.\n",
    "\n",
    "In this coursework, you are expected to demonstrate what you have learned in the module by applying techniques as covered in the module to a dataset and domain of your choice. This will include some or all of:\n",
    "\n",
    "    • Define the domain and dataset(s) (you are free to choose the domain and the dataset that you want to investigate).\n",
    "\n",
    "    • Define  questions and analysis tasks (a brief overview  of  the  domain, analytical questions that are being asked, a list of your objectives and the \n",
    "    expected output(s)of your analysis)\n",
    "    \n",
    "    • Perform an initial investigation of the dataset and the characteristics of the data. Develop a viable plan: which data processing steps you will need to\n",
    "    perform, how you will transform the data to make it useable, which artificial intelligence techniques you can potentially use and what sorts of potential\n",
    "    observations these can lead to.\n",
    "\n",
    "    • Perform the analysis.  Get the data ready for analysis, carry out your analysis/modelling as needed, validate your results and communicate observations, \n",
    "    iterating through this process. Analytical operations can include data processing to an extent that is needed (not all datasets are messy) to prepare a useful and\n",
    "    robust dataset to work within, and data derivation (such as feature engineering).\n",
    "\n",
    "    • Split your dataset (train/validate/test, somedatasets come pre-split). If you have a holdout test set then you most likely don’t want to use this until the near \n",
    "    the end of your work.\n",
    "\n",
    "    • You might establish a baseline result first, computing metrics on training and validation sets,  analyse  errors, work  on  succeeding iterations, and \n",
    "    alternative models. (If initial metrics are amazing and there are no errors is the problem too easy?)\n",
    "\n",
    "    • Be  close to your data  (visualise  the  dataset,  collect  summary  statistics,  look  at  errors, analyse how different parameters affect performance, try \n",
    "    out different model variants).\n"
   ]
  },
  {
   "cell_type": "markdown",
   "metadata": {},
   "source": [
    "## Semantic Segmentation of Brain Tumours using U-Net and Fully Convolutional Network"
   ]
  },
  {
   "cell_type": "code",
   "execution_count": 42,
   "metadata": {},
   "outputs": [],
   "source": [
    "import os\n",
    "import sys\n",
    "import matplotlib.pyplot as plt\n",
    "import pandas as pd\n",
    "import numpy as np\n",
    "import torch \n",
    "import torchvision\n",
    "import nibabel as nib\n",
    "from nibabel.testing import data_path\n",
    "from PIL import Image\n",
    "# importing packages for visualisation and pre-processing\n",
    "import SimpleITK as sitk\n",
    "import time\n",
    "import itk                  # visualisation in jupyter\n",
    "import itkwidgets\n",
    "from ipywidgets import interact, interactive, IntSlider, ToggleButtons"
   ]
  },
  {
   "cell_type": "code",
   "execution_count": 2,
   "metadata": {},
   "outputs": [],
   "source": [
    "##--------------------Coding References---------------------##\n",
    "# Percentage of borrowed code: X% - \n",
    "# [1] "
   ]
  },
  {
   "cell_type": "code",
   "execution_count": 3,
   "metadata": {},
   "outputs": [
    {
     "name": "stdout",
     "output_type": "stream",
     "text": [
      "Python: 3.7.6 (default, Jan  8 2020, 20:23:39) [MSC v.1916 64 bit (AMD64)]\n",
      "Numpy Version: 1.18.1\n",
      "PyTorch Version: 1.7.0\n",
      "Nibabel Version: 3.2.1\n"
     ]
    }
   ],
   "source": [
    "print(f\"Python: {sys.version}\")\n",
    "print(f\"Numpy Version: {np.__version__}\")\n",
    "print(f\"PyTorch Version: {torch.__version__}\")\n",
    "print(f\"Nibabel Version: {nib.__version__}\")"
   ]
  },
  {
   "cell_type": "markdown",
   "metadata": {},
   "source": [
    "## Initial investigation of the first training image"
   ]
  },
  {
   "cell_type": "code",
   "execution_count": 4,
   "metadata": {},
   "outputs": [],
   "source": [
    "image_1 = os.path.join('data\\\\train\\\\BRATS_001.nii.gz') # accessing the first training image"
   ]
  },
  {
   "cell_type": "code",
   "execution_count": 5,
   "metadata": {},
   "outputs": [],
   "source": [
    "image_1 = nib.load(image_1) # loading the training image"
   ]
  },
  {
   "cell_type": "code",
   "execution_count": 6,
   "metadata": {},
   "outputs": [
    {
     "data": {
      "text/plain": [
       "(240, 240, 155, 4)"
      ]
     },
     "execution_count": 6,
     "metadata": {},
     "output_type": "execute_result"
    }
   ],
   "source": [
    "image_1.shape # looking at the shape (240x240 pixels), 155 frames, 4 dimensions (FLAIR, T1w, T1gd, T2w)"
   ]
  },
  {
   "cell_type": "code",
   "execution_count": 7,
   "metadata": {},
   "outputs": [
    {
     "name": "stdout",
     "output_type": "stream",
     "text": [
      "<class 'nibabel.nifti1.Nifti1Image'>\n",
      "data shape (240, 240, 155, 4)\n",
      "affine: \n",
      "[[1. 0. 0. 0.]\n",
      " [0. 1. 0. 0.]\n",
      " [0. 0. 1. 0.]\n",
      " [0. 0. 0. 1.]]\n",
      "metadata:\n",
      "<class 'nibabel.nifti1.Nifti1Header'> object, endian='<'\n",
      "sizeof_hdr      : 348\n",
      "data_type       : b''\n",
      "db_name         : b''\n",
      "extents         : 0\n",
      "session_error   : 0\n",
      "regular         : b'r'\n",
      "dim_info        : 0\n",
      "dim             : [  4 240 240 155   4   1   1   1]\n",
      "intent_p1       : 0.0\n",
      "intent_p2       : 0.0\n",
      "intent_p3       : 0.0\n",
      "intent_code     : none\n",
      "datatype        : float32\n",
      "bitpix          : 32\n",
      "slice_start     : 0\n",
      "pixdim          : [1. 1. 1. 1. 1. 0. 0. 0.]\n",
      "vox_offset      : 0.0\n",
      "scl_slope       : nan\n",
      "scl_inter       : nan\n",
      "slice_end       : 0\n",
      "slice_code      : unknown\n",
      "xyzt_units      : 10\n",
      "cal_max         : 0.0\n",
      "cal_min         : 0.0\n",
      "slice_duration  : 0.0\n",
      "toffset         : 0.0\n",
      "glmax           : 0\n",
      "glmin           : 0\n",
      "descrip         : b'5.0.10'\n",
      "aux_file        : b'none'\n",
      "qform_code      : scanner\n",
      "sform_code      : scanner\n",
      "quatern_b       : 0.0\n",
      "quatern_c       : 0.0\n",
      "quatern_d       : 0.0\n",
      "qoffset_x       : 0.0\n",
      "qoffset_y       : 0.0\n",
      "qoffset_z       : 0.0\n",
      "srow_x          : [1. 0. 0. 0.]\n",
      "srow_y          : [0. 1. 0. 0.]\n",
      "srow_z          : [0. 0. 1. 0.]\n",
      "intent_name     : b''\n",
      "magic           : b'n+1'\n"
     ]
    }
   ],
   "source": [
    "print(image_1) # looking at the header"
   ]
  },
  {
   "cell_type": "code",
   "execution_count": 8,
   "metadata": {},
   "outputs": [],
   "source": [
    "image_1_data = image_1.get_fdata()"
   ]
  },
  {
   "cell_type": "code",
   "execution_count": 9,
   "metadata": {},
   "outputs": [],
   "source": [
    "image_1_data_arr = np.asarray(image_1_data) # transforming to np array"
   ]
  },
  {
   "cell_type": "code",
   "execution_count": 10,
   "metadata": {},
   "outputs": [
    {
     "data": {
      "text/plain": [
       "(240, 240, 155, 4)"
      ]
     },
     "execution_count": 10,
     "metadata": {},
     "output_type": "execute_result"
    }
   ],
   "source": [
    "image_1_data_arr.shape # looking at the shape"
   ]
  },
  {
   "cell_type": "code",
   "execution_count": 11,
   "metadata": {},
   "outputs": [
    {
     "data": {
      "image/png": "[encoded data removed]",
      "text/plain": [
       "<Figure size 720x720 with 1 Axes>"
      ]
     },
     "metadata": {
      "needs_background": "light"
     },
     "output_type": "display_data"
    }
   ],
   "source": [
    "plt.figure(figsize=(10,10))\n",
    "plt.imshow(image_1_data_arr[:,:,95,2], cmap='gray'); # plotting the FLAIR (0th dimension) of the 106th frame of the 1st training image FLAIR - 0, T1w - 1, T1gd - 2, T2w - 3"
   ]
  },
  {
   "cell_type": "markdown",
   "metadata": {},
   "source": [
    "## Initial investigation of the label for the first training image"
   ]
  },
  {
   "cell_type": "code",
   "execution_count": 12,
   "metadata": {},
   "outputs": [],
   "source": [
    "image_1_label = os.path.join('data\\\\train_labels\\\\BRATS_001.nii.gz') # accessing the label for the first training image"
   ]
  },
  {
   "cell_type": "code",
   "execution_count": 13,
   "metadata": {},
   "outputs": [],
   "source": [
    "image_1_label = nib.load(image_1_label) # loading the label for the first training image"
   ]
  },
  {
   "cell_type": "code",
   "execution_count": 14,
   "metadata": {},
   "outputs": [
    {
     "data": {
      "text/plain": [
       "(240, 240, 155)"
      ]
     },
     "execution_count": 14,
     "metadata": {},
     "output_type": "execute_result"
    }
   ],
   "source": [
    "image_1_label.shape # investigating the shape (240x240 pixels), 155 frames each frame represents the pixels where the tumour is present as demonstrated below "
   ]
  },
  {
   "cell_type": "code",
   "execution_count": 15,
   "metadata": {},
   "outputs": [
    {
     "name": "stdout",
     "output_type": "stream",
     "text": [
      "<class 'nibabel.nifti1.Nifti1Image'>\n",
      "data shape (240, 240, 155)\n",
      "affine: \n",
      "[[1. 0. 0. 0.]\n",
      " [0. 1. 0. 0.]\n",
      " [0. 0. 1. 0.]\n",
      " [0. 0. 0. 1.]]\n",
      "metadata:\n",
      "<class 'nibabel.nifti1.Nifti1Header'> object, endian='<'\n",
      "sizeof_hdr      : 348\n",
      "data_type       : b''\n",
      "db_name         : b''\n",
      "extents         : 0\n",
      "session_error   : 0\n",
      "regular         : b'r'\n",
      "dim_info        : 0\n",
      "dim             : [  3 240 240 155   1   1   1   1]\n",
      "intent_p1       : 0.0\n",
      "intent_p2       : 0.0\n",
      "intent_p3       : 0.0\n",
      "intent_code     : none\n",
      "datatype        : uint8\n",
      "bitpix          : 8\n",
      "slice_start     : 0\n",
      "pixdim          : [1. 1. 1. 1. 1. 0. 0. 0.]\n",
      "vox_offset      : 0.0\n",
      "scl_slope       : nan\n",
      "scl_inter       : nan\n",
      "slice_end       : 0\n",
      "slice_code      : unknown\n",
      "xyzt_units      : 10\n",
      "cal_max         : 0.0\n",
      "cal_min         : 0.0\n",
      "slice_duration  : 0.0\n",
      "toffset         : 0.0\n",
      "glmax           : 0\n",
      "glmin           : 0\n",
      "descrip         : b'5.0.10'\n",
      "aux_file        : b'none'\n",
      "qform_code      : scanner\n",
      "sform_code      : scanner\n",
      "quatern_b       : 0.0\n",
      "quatern_c       : 0.0\n",
      "quatern_d       : 0.0\n",
      "qoffset_x       : 0.0\n",
      "qoffset_y       : 0.0\n",
      "qoffset_z       : 0.0\n",
      "srow_x          : [1. 0. 0. 0.]\n",
      "srow_y          : [0. 1. 0. 0.]\n",
      "srow_z          : [0. 0. 1. 0.]\n",
      "intent_name     : b''\n",
      "magic           : b'n+1'\n"
     ]
    }
   ],
   "source": [
    "print(image_1_label) # looking at the header for the label"
   ]
  },
  {
   "cell_type": "code",
   "execution_count": 16,
   "metadata": {},
   "outputs": [],
   "source": [
    "image_1_label_data = image_1_label.get_fdata()"
   ]
  },
  {
   "cell_type": "code",
   "execution_count": 17,
   "metadata": {},
   "outputs": [],
   "source": [
    "image_1_label_data_arr = np.asarray(image_1_label_data) # converting to np array"
   ]
  },
  {
   "cell_type": "code",
   "execution_count": 18,
   "metadata": {},
   "outputs": [
    {
     "data": {
      "text/plain": [
       "(240, 240, 155)"
      ]
     },
     "execution_count": 18,
     "metadata": {},
     "output_type": "execute_result"
    }
   ],
   "source": [
    "image_1_label_data_arr.shape # investigating the shape"
   ]
  },
  {
   "cell_type": "code",
   "execution_count": 19,
   "metadata": {},
   "outputs": [
    {
     "data": {
      "image/png": "[encoded data removed]",
      "text/plain": [
       "<Figure size 720x720 with 1 Axes>"
      ]
     },
     "metadata": {
      "needs_background": "light"
     },
     "output_type": "display_data"
    }
   ],
   "source": [
    "plt.figure(figsize=(10,10))\n",
    "plt.imshow(image_1_label_data_arr[:,:,95], cmap='gray'); # plotting the label of the 1st training image - 95th frame shows clearly the tumour"
   ]
  },
  {
   "cell_type": "code",
   "execution_count": 20,
   "metadata": {},
   "outputs": [],
   "source": [
    "#img = Image.fromarray(img_data_arr[:,:,15,0], 'L')\n",
    "#img.save(\"image.jpeg\")"
   ]
  },
  {
   "cell_type": "code",
   "execution_count": 21,
   "metadata": {},
   "outputs": [],
   "source": [
    "#np.set_printoptions(threshold=sys.maxsize)\n",
    "#image_1_label_data[130:, 130:, 55]     # can see 0, 1, 2, 3 in the numpy array - this corresponds to the 4 classes"
   ]
  },
  {
   "cell_type": "markdown",
   "metadata": {},
   "source": [
    "## Data Preprocessing - Starting from scratch kinda\n",
    "\n",
    "Summary of steps to perform: \n",
    "- N4ITK bias correction\n",
    "- 1% of the top and bottom intensities removed\n",
    "- Normalise to 0 mean and unit variance\n",
    "- Data Augmentation (rotation, shearing etc.) to generate more data points from 484 Labelled MRIs with tumours, helps with generalisation\n",
    "- Train/val/test split "
   ]
  },
  {
   "cell_type": "code",
   "execution_count": 22,
   "metadata": {},
   "outputs": [],
   "source": [
    "image_1 = os.path.join('data\\\\train\\\\BRATS_001.nii.gz') # accessing the first training image"
   ]
  },
  {
   "cell_type": "code",
   "execution_count": 23,
   "metadata": {},
   "outputs": [],
   "source": [
    "image_1 = nib.load(image_1) # loading the training image"
   ]
  },
  {
   "cell_type": "code",
   "execution_count": 24,
   "metadata": {},
   "outputs": [],
   "source": [
    "image_1_data = image_1.get_fdata() # converting to np array"
   ]
  },
  {
   "cell_type": "code",
   "execution_count": 25,
   "metadata": {},
   "outputs": [
    {
     "name": "stdout",
     "output_type": "stream",
     "text": [
      "This image has the following dimensions: \n",
      "Height = 240\n",
      "Width = 240\n",
      "Depth = 155\n",
      "Channels = 4\n"
     ]
    }
   ],
   "source": [
    "height, width, depth, channels = image_1_data.shape         # getting the dimensions\n",
    "print(f'This image has the following dimensions: \\nHeight = {height}\\nWidth = {width}\\nDepth = {depth}\\nChannels = {channels}')"
   ]
  },
  {
   "cell_type": "code",
   "execution_count": 26,
   "metadata": {},
   "outputs": [
    {
     "data": {
      "application/vnd.jupyter.widget-view+json": {
       "model_id": "d9c2531b9f1b4e5b90fcd4f8554e29c3",
       "version_major": 2,
       "version_minor": 0
      },
      "text/plain": [
       "interactive(children=(IntSlider(value=77, description='layer', max=154), Output()), _dom_classes=('widget-inte…"
      ]
     },
     "metadata": {},
     "output_type": "display_data"
    }
   ],
   "source": [
    "def visualisation(layer):                   # function that allows interaction to view all layers of an MRI\n",
    "    plt.figure(figsize=(5,5))\n",
    "    channel = 0\n",
    "    plt.imshow(image_1_data[:,:, layer, channel], cmap='gray')\n",
    "    plt.title('Visualisation of Layers of Brain MRI', family='Arial', fontsize=20)\n",
    "    plt.axis('off')\n",
    "    return layer\n",
    "\n",
    "interact(visualisation, layer = (0, image_1_data.shape[2]-1));"
   ]
  },
  {
   "cell_type": "code",
   "execution_count": 27,
   "metadata": {},
   "outputs": [],
   "source": [
    "## Doing the same as above for the labels\n",
    "image_1_label = os.path.join('data\\\\train_labels\\\\BRATS_001.nii.gz') # accessing the label for the first training image\n",
    "image_1_label = nib.load(image_1_label) # loading the label for the first training image\n",
    "image_1_label_data = image_1_label.get_fdata()"
   ]
  },
  {
   "cell_type": "code",
   "execution_count": 28,
   "metadata": {},
   "outputs": [
    {
     "name": "stdout",
     "output_type": "stream",
     "text": [
      "This image has the following dimensions: \n",
      "Height = 240\n",
      "Width = 240\n",
      "Depth = 155.\n",
      "With the unique values: [0. 1. 2. 3.].\n",
      "Corresponding to the label categories:             \n",
      " 0: for normal,\n",
      " 1: for edema,\n",
      " 2: for non-enhancing tumour\n",
      " 3: for enhancing tumour\n"
     ]
    }
   ],
   "source": [
    "height, width, depth = image_1_label_data.shape         # getting the dimensions\n",
    "print(f'This image has the following dimensions: \\nHeight = {height}\\nWidth = {width}\\nDepth = {depth}.')\n",
    "print(f'With the unique values: {np.unique(image_1_label_data)}.')\n",
    "print('''Corresponding to the label categories:             \n",
    " 0: for normal,\n",
    " 1: for edema,\n",
    " 2: for non-enhancing tumour\n",
    " 3: for enhancing tumour''')                            # outlining the labels"
   ]
  },
  {
   "cell_type": "code",
   "execution_count": 29,
   "metadata": {},
   "outputs": [
    {
     "data": {
      "application/vnd.jupyter.widget-view+json": {
       "model_id": "ee94514402634840ac9793bece2aca95",
       "version_major": 2,
       "version_minor": 0
      },
      "text/plain": [
       "interactive(children=(ToggleButtons(button_style='info', description='Select Class:', options=('Normal', 'Edem…"
      ]
     },
     "metadata": {},
     "output_type": "display_data"
    }
   ],
   "source": [
    "classes = {\n",
    "    'Normal' : 0.,\n",
    "    'Edema' : 1.,\n",
    "    'Non-enhancing Tumour' : 2.,\n",
    "    'Enhancing Tumour' : 3.,\n",
    "}\n",
    "select_class = ToggleButtons(\n",
    "    options = ['Normal','Edema', 'Non-enhancing Tumour', 'Enhancing Tumour'],\n",
    "    description = 'Select Class:',\n",
    "    disabled = False,\n",
    "    button_style = 'info', \n",
    "    \n",
    ")\n",
    "select_layer = IntSlider(min=0, max=154, description='Select Layer', continuous_update=False)\n",
    "\n",
    "def plot_image(seg_class, layer):\n",
    "    print(f\"Plotting {layer} Layer Label: {seg_class}\")\n",
    "    img_label = classes[seg_class]\n",
    "    mask = np.where(image_1_label_data[:,:, layer] == img_label, 255, 0)\n",
    "    plt.figure(figsize=(10,5))\n",
    "    plt.imshow(mask, cmap='gray')\n",
    "    plt.axis('off');\n",
    "\n",
    "interactive(plot_image, seg_class = select_class, layer = select_layer) # remember the white space represents what is being shown"
   ]
  },
  {
   "cell_type": "code",
   "execution_count": 30,
   "metadata": {},
   "outputs": [
    {
     "data": {
      "text/plain": [
       "array([0., 1., 2., 3.])"
      ]
     },
     "execution_count": 30,
     "metadata": {},
     "output_type": "execute_result"
    }
   ],
   "source": [
    "np.unique(image_1_label_data[:,:, 55])"
   ]
  },
  {
   "cell_type": "markdown",
   "metadata": {},
   "source": [
    "#### Exploring N4 Bias Correction:\n",
    "\n",
    "N4ITK paper : https://ieeexplore.ieee.org/abstract/document/5445030\n",
    "\n",
    "Documentation: https://simpleitk.readthedocs.io/en/master/link_N4BiasFieldCorrection_docs.html"
   ]
  },
  {
   "cell_type": "code",
   "execution_count": 43,
   "metadata": {},
   "outputs": [],
   "source": [
    "# Either we run N4 correction on array, iterate through entire pre-processing and then output to file. \n",
    "# Or we read directly from file and output to folder at N4 stage, may be better if processing takes long. Both methods below. \n",
    "# Some steps commented out below, questions around the process.\n",
    "\n",
    "\n",
    "# Run on array input\n",
    "def N4_Bias_Correction():\n",
    "\n",
    "    start = time.time() # Can remove later\n",
    "    shrink_factor = 2 # Any potential value\n",
    "    InputImg= sitk.GetImageFromArray(image_1_data_arr[:,:,:,1]) # Filtered for T1 modality, need to check how to handle all modalities. Throwing up an error.\n",
    "    \n",
    "    #InputImg= sitk.Shrink(InputImg, [int(shrink_factor)] * InputImg.GetDimension()) # Shrink the image? Improves run time 5 fold. Reduces quality but can convert back.\n",
    "    \n",
    "    InputImg = sitk.Cast(InputImg, sitk.sitkFloat32)\n",
    "    MaskImg= sitk.OtsuThreshold (InputImg, 0, 1, 200) # Otsu Threshold\n",
    "    \n",
    "    corrector = sitk.N4BiasFieldCorrectionImageFilter()\n",
    "    \n",
    "    OutputImg= corrector.Execute(InputImg, MaskImg)\n",
    "    OutputImg= sitk.GetArrayFromImage(OutputImg)\n",
    "    \n",
    "    # log_bias_field = corrector.GetLogBiasFieldAsImage(InputImg) # Would want to save this if we use the shrink approach\n",
    "    \n",
    "    end = time.time()\n",
    "    total_time= print(end-start)\n",
    "    print(\"N4 Bias Field Correction complete\")\n",
    "    return OutputImg, total_time\n",
    "\n",
    "# Run on file input\n",
    "def N4_Bias_Correction_file():\n",
    "    \n",
    "    start = time.time() \n",
    " \n",
    "    \n",
    "    InputImg = sitk.ReadImage('data\\\\train\\\\BRATS_001.nii.gz') \n",
    "    InputImg = sitk.Image(240,240, 155, sitk.sitkFloat32)    \n",
    "    MaskImg= sitk.OtsuThreshold (InputImg, 0, 1, 200) \n",
    "    \n",
    "    corrector = sitk.N4BiasFieldCorrectionImageFilter()\n",
    "    \n",
    "    OutputImg= corrector.Execute(InputImg, MaskImg)\n",
    "    #OutputImg= corrector.Execute(InputImg, MaskImg) # Not using mask image\n",
    "   # log_bias_field = corrector.GetLogBiasFieldAsImage(InputImg) # Attempted to get bias field image but not yet released in sitk (link)\n",
    "    \n",
    "    sitk.WriteImage(OutputImg,\"data\\\\pre-processed_data\\\\BRATS_001.nii.gz\")\n",
    "    \n",
    "    end = time.time()\n",
    "    total_time = print(end-start)\n",
    "    print(\"N4 Bias Field Correction complete\")\n",
    "    return OutputImg, total_time\n",
    "    "
   ]
  },
  {
   "cell_type": "code",
   "execution_count": 34,
   "metadata": {},
   "outputs": [
    {
     "name": "stdout",
     "output_type": "stream",
     "text": [
      "72.03758549690247\n",
      "N4 Bias Field Correction complete\n"
     ]
    }
   ],
   "source": [
    "# Running N4 correction array\n",
    "img_corrected_arr, time = N4_Bias_Correction()"
   ]
  },
  {
   "cell_type": "code",
   "execution_count": 44,
   "metadata": {},
   "outputs": [
    {
     "name": "stdout",
     "output_type": "stream",
     "text": [
      "3.5933542251586914\n",
      "N4 Bias Field Correction complete\n"
     ]
    }
   ],
   "source": [
    "# Running N4 correction file\n",
    "img_corrected_file, time = N4_Bias_Correction_file() "
   ]
  },
  {
   "cell_type": "code",
   "execution_count": 47,
   "metadata": {},
   "outputs": [
    {
     "data": {
      "image/png": "[encoded data removed]",
      "text/plain": [
       "<Figure size 720x720 with 2 Axes>"
      ]
     },
     "metadata": {
      "needs_background": "light"
     },
     "output_type": "display_data"
    }
   ],
   "source": [
    "# Plotting original image vs N4 bias corrected - array data\n",
    "fig, ax = plt.subplots(1,2, figsize=(10,10))\n",
    "ax[1].imshow(image_1_data_arr[:,:,95,1], cmap='gray') # Note modality 1 as one modality was processed\n",
    "ax[1].set_title(\"Original Image\")\n",
    "ax[0].imshow(img_corrected_arr[:,:,95], cmap='gray')\n",
    "ax[0].set_title(\"N4 Bias Corrected\")\n",
    "plt.show()"
   ]
  },
  {
   "cell_type": "code",
   "execution_count": null,
   "metadata": {},
   "outputs": [],
   "source": []
  },
  {
   "cell_type": "code",
   "execution_count": null,
   "metadata": {},
   "outputs": [],
   "source": []
  },
  {
   "cell_type": "markdown",
   "metadata": {},
   "source": [
    "#### Note for Sarah: The N4 Bias correction from file doesn't work properly on 4D images (error with otsuthreshold) so we have to convert to np arrays first before doing N4 bias correction and do it for each of the 4 images per MRI. I can run this and it will take a while but we can save the np arrays for easier access in the future. About your note, I think it is still beneficial to remove the top and bottom 1% intensity removal but I will look into it."
   ]
  },
  {
   "cell_type": "code",
   "execution_count": 45,
   "metadata": {},
   "outputs": [
    {
     "name": "stdout",
     "output_type": "stream",
     "text": [
      "240\n",
      "240\n",
      "155\n",
      "4\n",
      "8\n",
      "32-bit float\n"
     ]
    }
   ],
   "source": [
    "image = sitk.ReadImage('data\\\\train\\\\' + 'BRATS_001.nii.gz', sitk.sitkFloat32)\n",
    "print(image.GetWidth())\n",
    "print(image.GetHeight())\n",
    "print(image.GetDepth())\n",
    "print(image.GetDimension())\n",
    "print (image.GetPixelIDValue())\n",
    "print (image.GetPixelIDTypeAsString())"
   ]
  },
  {
   "cell_type": "code",
   "execution_count": 62,
   "metadata": {},
   "outputs": [],
   "source": [
    "def N4_Bias_Correct_All(src_dir, out_dir):         \n",
    "    # PROBLEM: Bias correction takes very long. Right now it is accessing an individual channel/modality, performing bias correction and then save this as the FLAIR or T1w or T2w or T1gd file. Use ANTS instead?\n",
    "    print('N4 bias correction starting...')\n",
    "    corrector = sitk.N4BiasFieldCorrectionImageFilter()\n",
    "    for data in os.listdir(src_dir):                            \n",
    "        image = sitk.ReadImage(src_dir + str(data), sitk.sitkFloat32)\n",
    "          \n",
    "        inputImg_FLAIR = image[:,:,:,0]                                                                                         \n",
    "        maskImg_FLAIR = sitk.OtsuThreshold(inputImg_FLAIR, 0, 1, 200)\n",
    "        outputImg_FLAIR = corrector.Execute(inputImg_FLAIR, maskImg_FLAIR)                   # performing N4 bias correction and normalisation for T1w image               \n",
    "        sitk.WriteImage(outputImg_FLAIR, out_dir + '\\\\' + str(data)[:9] + '\\\\' + 'FLAIR_' + str(data))\n",
    "\n",
    "        inputImg_T1w = image[:,:,:,1]                                                                                       \n",
    "        maskImg_T1w = sitk.OtsuThreshold(inputImg_T1w, 0, 1, 200)\n",
    "        outputImg_T1w = corrector.Execute(inputImg_T1w, maskImg_T1w)                         # performing N4 bias correction and normalisation for T1w image\n",
    "        sitk.WriteImage(outputImg_T1w, out_dir + '\\\\' + str(data)[:9] + '\\\\' + 'T1w_' + str(data))\n",
    "\n",
    "        inputImg_T1gd  = image[:,:,:,2]                                                          \n",
    "        maskImg_T1gd = sitk.OtsuThreshold(inputImg_T1gd, 0, 1, 200)\n",
    "        outputImg_T1gd = corrector.Execute(inputImg_T1gd, maskImg_T1gd)                      # performing N4 bias correction and normalisation for T1gd image\n",
    "        sitk.WriteImage(outputImg_T1gd, out_dir + '\\\\' + str(data)[:9] + '\\\\' + 'T1gd_' + str(data))\n",
    "\n",
    "        inputImg_T2w  = image[:,:,:,3]                                                            \n",
    "        maskImg_T2w = sitk.OtsuThreshold(inputImg_T2w, 0, 1, 200)\n",
    "        outputImg_T2w = corrector.Execute(inputImg_T2w, maskImg_T2w)                         # performing N4 bias correction and normalisation for T1gd image\n",
    "        sitk.WriteImage(outputImg_T2w, out_dir + '\\\\' + str(data)[:9] + '\\\\' + 'T2w_' + str(data))        \n",
    "\n",
    "        if str(data) == 'BRATS_001.nii.gz':                                                  # Stops after 1 conversion for now\n",
    "            print('N4 bias correction completed')\n",
    "            break"
   ]
  },
  {
   "cell_type": "code",
   "execution_count": 64,
   "metadata": {},
   "outputs": [
    {
     "name": "stdout",
     "output_type": "stream",
     "text": [
      "N4 bias correction starting...\n",
      "N4 bias correction completed\n",
      "time taken = 381.3280465602875\n"
     ]
    }
   ],
   "source": [
    "import time\n",
    "start = time.time() \n",
    "N4_Bias_Correct_All(src_dir='data\\\\train\\\\', out_dir='data\\\\pre-processed_data\\\\train')\n",
    "end = time.time()\n",
    "print('time taken =', end-start)"
   ]
  },
  {
   "cell_type": "markdown",
   "metadata": {},
   "source": [
    "#### Note: Alternative method to loading arrays is to use the below function to split the files into their modalities (Very quick process- as images are not loaded to memory by nibabel). Bias correction can then be run by modalities - or select modalities can be corrected such as T1. The files can be subsequently concatenated back to a single 4d file easily using nibabel.\n",
    "\n",
    "#### Could run all transformations on the single file and split as last process before N4 correction. Or the opposite way, then load as arrays, convert to tensors and transform using PyTorch. \n",
    "\n",
    "#### Testing on individual modality files N4 bias correction below. Marginally faster ~30seconds for all modalities - although I did notice that it is only the FLAIR and T2w files that are time consuming (5x slower). (t2w>FLAIR>t1w>t1gd"
   ]
  },
  {
   "cell_type": "code",
   "execution_count": 102,
   "metadata": {},
   "outputs": [],
   "source": [
    "# Converts 4D image files to 3D files by slicing by modality \n",
    "\n",
    "def convert4d_to_3d(src_dir, out_dir, max_files=1): # max_files set to a default of 1 for testing\n",
    "    count=0\n",
    "    \n",
    "    for data in os.listdir(src_dir):\n",
    "        image= os.path.join(src_dir + str(data))\n",
    "        image = nib.load(image)\n",
    "        image_FLAIR, image_T1w, image_T1gd, image_T2w = nib.funcs.four_to_three(image)\n",
    "        \n",
    "        nib.save(image_FLAIR, out_dir + \"FLAIR_\" + str(data))\n",
    "        nib.save(image_T1w, out_dir + \"T1w_\" + str(data))\n",
    "        nib.save(image_T1gd, out_dir + \"T1gd_\" + str(data))\n",
    "        nib.save(image_T2w, out_dir + \"T2w_\" + str(data))\n",
    "        count+=1\n",
    "        if count==max_files:\n",
    "            break\n",
    "    return "
   ]
  },
  {
   "cell_type": "code",
   "execution_count": 103,
   "metadata": {},
   "outputs": [],
   "source": [
    "convert4d_to_3d(src_dir='data\\\\train\\\\', out_dir='data\\\\pre-processed_data\\\\train3d\\\\')"
   ]
  },
  {
   "cell_type": "code",
   "execution_count": 112,
   "metadata": {},
   "outputs": [],
   "source": [
    "def N4_Bias_Correct_Modality(src_dir, out_dir, max_files=4):         \n",
    "    count=0\n",
    "    print('N4 bias correction starting...')\n",
    "    corrector = sitk.N4BiasFieldCorrectionImageFilter()\n",
    "    for data in os.listdir(src_dir):                            \n",
    "        image = sitk.ReadImage(src_dir + str(data))\n",
    "          \n",
    "        inputImg = image                                                                                        \n",
    "        maskImg = sitk.OtsuThreshold(inputImg, 0, 1, 200)\n",
    "        outputImg = corrector.Execute(inputImg, maskImg)             \n",
    "        sitk.WriteImage(outputImg, out_dir + str(data))\n",
    "        count+=1\n",
    "        if count==max_files:\n",
    "            print('N4 bias correction completed')\n",
    "            break \n",
    "    return "
   ]
  },
  {
   "cell_type": "code",
   "execution_count": 114,
   "metadata": {},
   "outputs": [
    {
     "name": "stdout",
     "output_type": "stream",
     "text": [
      "N4 bias correction starting...\n",
      "time taken = 369.2546772956848\n"
     ]
    }
   ],
   "source": [
    "import time\n",
    "start = time.time() \n",
    "N4_Bias_Correct_All_test(src_dir='data\\\\pre-processed_data\\\\train3d\\\\', out_dir='data\\\\pre-processed_data\\\\train3d_output\\\\')\n",
    "end = time.time()\n",
    "print('time taken =', end-start)"
   ]
  },
  {
   "cell_type": "markdown",
   "metadata": {},
   "source": [
    "##### Patch extraction prior to N4 correction to reduce size - Reduce to a sub-volume containing brain tissue and removes background. Common method? Started exploring transformations for data augmentation-  based on papers augmentations are effective to reduce overfitting. We can keep it simple and stick to trivial augmentations and further work would be elastic transformation.\n",
    "\n",
    "Paper: https://www.frontiersin.org/articles/10.3389/fncom.2019.00083/full\n",
    "\n",
    "Affine transformations (rotate, flip etc) - trivial to implement but may not be very effective.\n",
    "Pixel transformations - e.g modifying the brightness\n",
    "Elastic transformations "
   ]
  },
  {
   "cell_type": "code",
   "execution_count": null,
   "metadata": {},
   "outputs": [],
   "source": []
  },
  {
   "cell_type": "code",
   "execution_count": null,
   "metadata": {},
   "outputs": [],
   "source": []
  },
  {
   "cell_type": "markdown",
   "metadata": {},
   "source": [
    "## AARON'S IGNORE SECTION"
   ]
  },
  {
   "cell_type": "code",
   "execution_count": null,
   "metadata": {},
   "outputs": [],
   "source": [
    "print('start')\n",
    "start = time.time() \n",
    "inputImg_FLAIR = sitk.Cast(sitk.GetImageFromArray(image[:,:,:,0]), sitk.sitkFloat32)      # performing N4 bias correction and normalisation for T1w image\n",
    "#inputImg_FLAIR = image[:,:,:,0]                                                             # sitk.Cast(image[:,:,:,0], sitk.sitkFloat32)                            \n",
    "maskImg_FLAIR = sitk.OtsuThreshold(inputImg_FLAIR, 0, 1, 200)\n",
    "outputImg_FLAIR = corrector.Execute(inputImg_FLAIR, maskImg_FLAIR)\n",
    "mean_FLAIR = np.mean(outputImg_FLAIR, axis=None)\n",
    "std_FLAIR = np.std(outputImg_FLAIR, axis=None)\n",
    "normalised_FLAIR = (outputImg_FLAIR - mean_FLAIR) / std_FLAIR                                   \n",
    "np.save('FLAIR_BRATS_001', normalised_FLAIR)\n",
    "end = time.time()\n",
    "print('time taken =', end-start)"
   ]
  },
  {
   "cell_type": "code",
   "execution_count": 32,
   "metadata": {},
   "outputs": [],
   "source": [
    "def N4_Bias_Correct_All(src_dir, out_dir, msk_dir):\n",
    "    # Bias correcting all the files in a loop and put them in an output folder and then load them in as arrays. That way you bias correct the whole file. It will take a few minutes to do all of them.\n",
    "    # UNFINISHED \n",
    "    print('Performing N4 bias correction')\n",
    "    for data in os.listdir(src_dir): \n",
    "        InputImg = sitk.ReadImage(src_dir + str(data), sitk.sitkFloat32) \n",
    "        #InputImg = sitk.Image(240, 240, 155, sitk.sitkFloat32)                 # This line does not do anything but remap InputImg to a randomly generated image\n",
    "        #InputImg = sitk.Cast(InputImg, sitk.sitkVectorFloat32)\n",
    "        MaskImg = sitk.OtsuThreshold(InputImg, 0, 1, 200)                       # ISSUE: having a problem with 4D nature of the data\n",
    "        sitk.WriteImage(MaskImg, msk_dir)\n",
    "        corrector = sitk.N4BiasFieldCorrectionImageFilter()\n",
    "        OutputImg = corrector.Execute(InputImg, MaskImg)\n",
    "        sitk.WriteImage(OutputImg, out_dir + '\\\\' + str(data))\n",
    "        if str(data) == 'BRATS_002.nii.gz':                                     # Stops after 2 files for now\n",
    "            print('N4 bias correction completed')\n",
    "            break\n",
    "N4_Bias_Correct_All(src_dir='data\\\\train\\\\', out_dir='data\\\\pre-processed_data\\\\train', msk_dir='data\\\\pre-processed_data\\\\train_masks')     # N4 bias correction of training images \n",
    "N4_Bias_Correct_All(src_dir='data\\\\train_labels\\\\', out_dir='data\\\\pre-processed_data\\\\train_labels')                                           # N4 bias correction of training labels\n",
    "\n",
    "def Normalise_All(src_dir, out_dir):     \n",
    "    # Uses the .nii.gz files after N4 bias corrections, converts to np array and then removes the top and bottom 1% intensities, then normalises to zero mean and unit variance and saves them in the pre-processed_data folder as np arrays. UNFINISHED\n",
    "    print('Performing Normalisation')\n",
    "    for data in os.listdir(src_dir): \n",
    "        image = os.path.join(src_dir + str(data))               # accessing training image\n",
    "        image = nib.load(image)                                 # loading the training image\n",
    "        image_data = image.get_fdata()                          # convert to np array\n",
    "        mean = np.mean(image_data, axis=None)\n",
    "        std = np.std(image_data, axis=None)\n",
    "        norm_volume = (image_data - mean) / std                 # performing normalisation\n",
    "        if str(data) == 'BRATS_002.nii.gz':                     # stops after 2 files for now\n",
    "            print('Normalisation completed')\n",
    "            break\n",
    "Normalise_All(src_dir='data\\\\pre-processed_data\\\\train', out_dir='data\\\\pre-processed_data\\\\train')               # Normalisation of training images - overwrites the\n",
    "Normalise_All(src_dir='data\\\\pre-processed_data\\\\train_labels', out_dir='data\\\\pre-processed_data\\\\train_labels') # Normalisation of training labels"
   ]
  },
  {
   "cell_type": "markdown",
   "metadata": {},
   "source": [
    "## U-Net"
   ]
  },
  {
   "cell_type": "markdown",
   "metadata": {},
   "source": [
    "## Evaluation of U-Net"
   ]
  },
  {
   "cell_type": "markdown",
   "metadata": {},
   "source": [
    "## Fully Convolutional Network"
   ]
  },
  {
   "cell_type": "markdown",
   "metadata": {},
   "source": [
    "## Evaluation of Fully Convolutional Network\n"
   ]
  }
 ],
 "metadata": {
  "kernelspec": {
   "display_name": "Python 3",
   "language": "python",
   "name": "python3"
  },
  "language_info": {
   "codemirror_mode": {
    "name": "ipython",
    "version": 3
   },
   "file_extension": ".py",
   "mimetype": "text/x-python",
   "name": "python",
   "nbconvert_exporter": "python",
   "pygments_lexer": "ipython3",
   "version": "3.7.6"
  }
 },
 "nbformat": 4,
 "nbformat_minor": 2
}
