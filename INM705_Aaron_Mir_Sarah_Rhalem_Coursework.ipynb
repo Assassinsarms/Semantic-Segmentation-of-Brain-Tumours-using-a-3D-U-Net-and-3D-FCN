{
 "cells": [
  {
   "cell_type": "markdown",
   "metadata": {},
   "source": [
    "# INM705 Coursework\n",
    "### Aaron Mir (Student Number: 160001207) and Sarah Rhalem (Student Number: 190051884)"
   ]
  },
  {
   "cell_type": "markdown",
   "metadata": {},
   "source": [
    "This is from the INM701 coursework guidelines but I am keeping it here because it has some good points in it.\n",
    "\n",
    "In this coursework, you are expected to demonstrate what you have learned in the module by applying techniques as covered in the module to a dataset and domain of your choice. This will include some or all of:\n",
    "\n",
    "    • Define the domain and dataset(s) (you are free to choose the domain and the dataset that you want to investigate).\n",
    "\n",
    "    • Define  questions and analysis tasks (a brief overview  of  the  domain, analytical questions that are being asked, a list of your objectives and the \n",
    "    expected output(s)of your analysis)\n",
    "    \n",
    "    • Perform an initial investigation of the dataset and the characteristics of the data. Develop a viable plan: which data processing steps you will need to\n",
    "    perform, how you will transform the data to make it useable, which artificial intelligence techniques you can potentially use and what sorts of potential\n",
    "    observations these can lead to.\n",
    "\n",
    "    • Perform the analysis.  Get the data ready for analysis, carry out your analysis/modelling as needed, validate your results and communicate observations, \n",
    "    iterating through this process. Analytical operations can include data processing to an extent that is needed (not all datasets are messy) to prepare a useful and\n",
    "    robust dataset to work within, and data derivation (such as feature engineering).\n",
    "\n",
    "    • Split your dataset (train/validate/test, somedatasets come pre-split). If you have a holdout test set then you most likely don’t want to use this until the near \n",
    "    the end of your work.\n",
    "\n",
    "    • You might establish a baseline result first, computing metrics on training and validation sets,  analyse  errors, work  on  succeeding iterations, and \n",
    "    alternative models. (If initial metrics are amazing and there are no errors is the problem too easy?)\n",
    "\n",
    "    • Be  close to your data  (visualise  the  dataset,  collect  summary  statistics,  look  at  errors, analyse how different parameters affect performance, try \n",
    "    out different model variants).\n"
   ]
  },
  {
   "cell_type": "markdown",
   "metadata": {},
   "source": [
    "## Semantic Segmentation of Brain Tumours using U-Net and Fully Convolutional Network"
   ]
  },
  {
   "cell_type": "code",
   "execution_count": 1,
   "metadata": {},
   "outputs": [],
   "source": [
    "import os\n",
    "import sys\n",
    "import matplotlib.pyplot as plt\n",
    "import pandas as pd\n",
    "import numpy as np\n",
    "import torch \n",
    "import torchvision\n",
    "import nibabel as nib\n",
    "from nibabel.testing import data_path\n",
    "from PIL import Image"
   ]
  },
  {
   "cell_type": "code",
   "execution_count": 2,
   "metadata": {},
   "outputs": [],
   "source": [
    "##--------------------Coding References---------------------##\n",
    "# Percentage of borrowed code: X% - \n",
    "# [1] "
   ]
  },
  {
   "cell_type": "code",
   "execution_count": 3,
   "metadata": {},
   "outputs": [
    {
     "output_type": "stream",
     "name": "stdout",
     "text": [
      "Python: 3.8.7 (tags/v3.8.7:6503f05, Dec 21 2020, 17:59:51) [MSC v.1928 64 bit (AMD64)]\nNumpy Version: 1.19.5\nPyTorch Version: 1.7.1+cu110\nNibabel Version: 3.2.1\n"
     ]
    }
   ],
   "source": [
    "print(f\"Python: {sys.version}\")\n",
    "print(f\"Numpy Version: {np.__version__}\")\n",
    "print(f\"PyTorch Version: {torch.__version__}\")\n",
    "print(f\"Nibabel Version: {nib.__version__}\")"
   ]
  },
  {
   "source": [
    "## Initial investigation of the first training image"
   ],
   "cell_type": "markdown",
   "metadata": {}
  },
  {
   "cell_type": "code",
   "execution_count": 4,
   "metadata": {},
   "outputs": [],
   "source": [
    "image_1 = os.path.join('data\\\\train\\\\BRATS_001.nii.gz') # accessing the first training image"
   ]
  },
  {
   "cell_type": "code",
   "execution_count": 5,
   "metadata": {},
   "outputs": [],
   "source": [
    "image_1 = nib.load(image_1) # loading the training image"
   ]
  },
  {
   "cell_type": "code",
   "execution_count": 6,
   "metadata": {},
   "outputs": [
    {
     "output_type": "execute_result",
     "data": {
      "text/plain": [
       "(240, 240, 155, 4)"
      ]
     },
     "metadata": {},
     "execution_count": 6
    }
   ],
   "source": [
    "image_1.shape # looking at the shape (240x240 pixels), 155 frames, 4 dimensions (FLAIR, T1w, T1gd, T2w)"
   ]
  },
  {
   "cell_type": "code",
   "execution_count": 7,
   "metadata": {},
   "outputs": [
    {
     "output_type": "stream",
     "name": "stdout",
     "text": [
      "<class 'nibabel.nifti1.Nifti1Image'>\ndata shape (240, 240, 155, 4)\naffine: \n[[1. 0. 0. 0.]\n [0. 1. 0. 0.]\n [0. 0. 1. 0.]\n [0. 0. 0. 1.]]\nmetadata:\n<class 'nibabel.nifti1.Nifti1Header'> object, endian='<'\nsizeof_hdr      : 348\ndata_type       : b''\ndb_name         : b''\nextents         : 0\nsession_error   : 0\nregular         : b'r'\ndim_info        : 0\ndim             : [  4 240 240 155   4   1   1   1]\nintent_p1       : 0.0\nintent_p2       : 0.0\nintent_p3       : 0.0\nintent_code     : none\ndatatype        : float32\nbitpix          : 32\nslice_start     : 0\npixdim          : [1. 1. 1. 1. 1. 0. 0. 0.]\nvox_offset      : 0.0\nscl_slope       : nan\nscl_inter       : nan\nslice_end       : 0\nslice_code      : unknown\nxyzt_units      : 10\ncal_max         : 0.0\ncal_min         : 0.0\nslice_duration  : 0.0\ntoffset         : 0.0\nglmax           : 0\nglmin           : 0\ndescrip         : b'5.0.10'\naux_file        : b'none'\nqform_code      : scanner\nsform_code      : scanner\nquatern_b       : 0.0\nquatern_c       : 0.0\nquatern_d       : 0.0\nqoffset_x       : 0.0\nqoffset_y       : 0.0\nqoffset_z       : 0.0\nsrow_x          : [1. 0. 0. 0.]\nsrow_y          : [0. 1. 0. 0.]\nsrow_z          : [0. 0. 1. 0.]\nintent_name     : b''\nmagic           : b'n+1'\n"
     ]
    }
   ],
   "source": [
    "print(image_1) # looking at the header"
   ]
  },
  {
   "cell_type": "code",
   "execution_count": 8,
   "metadata": {},
   "outputs": [],
   "source": [
    "image_1_data = image_1.get_fdata()"
   ]
  },
  {
   "cell_type": "code",
   "execution_count": 9,
   "metadata": {},
   "outputs": [],
   "source": [
    "image_1_data_arr = np.asarray(image_1_data) # transforming to np array"
   ]
  },
  {
   "source": [
    "image_1_data_arr.shape # looking at the shape"
   ],
   "cell_type": "code",
   "metadata": {},
   "execution_count": 10,
   "outputs": [
    {
     "output_type": "execute_result",
     "data": {
      "text/plain": [
       "(240, 240, 155, 4)"
      ]
     },
     "metadata": {},
     "execution_count": 10
    }
   ]
  },
  {
   "cell_type": "code",
   "execution_count": 23,
   "metadata": {},
   "outputs": [
    {
     "output_type": "display_data",
     "data": {
      "text/plain": "<Figure size 432x288 with 1 Axes>",
      "image/svg+xml": "<?xml version=\"1.0\" encoding=\"utf-8\" standalone=\"no\"?>\r\n<!DOCTYPE svg PUBLIC \"-//W3C//DTD SVG 1.1//EN\"\r\n  \"http://www.w3.org/Graphics/SVG/1.1/DTD/svg11.dtd\">\r\n<!-- Created with matplotlib (https://matplotlib.org/) -->\r\n<svg height=\"251.864344pt\" version=\"1.1\" viewBox=\"0 0 257.9275 251.864344\" width=\"257.9275pt\" xmlns=\"http://www.w3.org/2000/svg\" xmlns:xlink=\"http://www.w3.org/1999/xlink\">\r\n <metadata>\r\n  <rdf:RDF xmlns:cc=\"http://creativecommons.org/ns#\" xmlns:dc=\"http://purl.org/dc/elements/1.1/\" xmlns:rdf=\"http://www.w3.org/1999/02/22-rdf-syntax-ns#\">\r\n   <cc:Work>\r\n    <dc:type rdf:resource=\"http://purl.org/dc/dcmitype/StillImage\"/>\r\n    <dc:date>2021-02-07T11:28:50.634391</dc:date>\r\n    <dc:format>image/svg+xml</dc:format>\r\n    <dc:creator>\r\n     <cc:Agent>\r\n      <dc:title>Matplotlib v3.3.3, https://matplotlib.org/</dc:title>\r\n     </cc:Agent>\r\n    </dc:creator>\r\n   </cc:Work>\r\n  </rdf:RDF>\r\n </metadata>\r\n <defs>\r\n  <style type=\"text/css\">*{stroke-linecap:butt;stroke-linejoin:round;}</style>\r\n </defs>\r\n <g id=\"figure_1\">\r\n  <g id=\"patch_1\">\r\n   <path d=\"M 0 251.864344 \r\nL 257.9275 251.864344 \r\nL 257.9275 0 \r\nL 0 0 \r\nz\r\n\" style=\"fill:none;\"/>\r\n  </g>\r\n  <g id=\"axes_1\">\r\n   <g id=\"patch_2\">\r\n    <path d=\"M 33.2875 227.986219 \r\nL 250.7275 227.986219 \r\nL 250.7275 10.546219 \r\nL 33.2875 10.546219 \r\nz\r\n\" style=\"fill:#ffffff;\"/>\r\n   </g>\r\n   <g clip-path=\"url(#p4ff68ff772)\">\r\n    <image height=\"218\" id=\"imageac64fbe205\" transform=\"scale(1 -1)translate(0 -218)\" width=\"218\" x=\"33.2875\" xlink:href=\"data:image/png;base64,\r\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\" y=\"-9.986219\"/>\r\n   </g>\r\n   <g id=\"matplotlib.axis_1\">\r\n    <g id=\"xtick_1\">\r\n     <g id=\"line2d_1\">\r\n      <defs>\r\n       <path d=\"M 0 0 \r\nL 0 3.5 \r\n\" id=\"mf641d99d6a\" style=\"stroke:#000000;stroke-width:0.8;\"/>\r\n      </defs>\r\n      <g>\r\n       <use style=\"stroke:#000000;stroke-width:0.8;\" x=\"33.7405\" xlink:href=\"#mf641d99d6a\" y=\"227.986219\"/>\r\n      </g>\r\n     </g>\r\n     <g id=\"text_1\">\r\n      <!-- 0 -->\r\n      <g transform=\"translate(30.55925 242.584656)scale(0.1 -0.1)\">\r\n       <defs>\r\n        <path d=\"M 31.78125 66.40625 \r\nQ 24.171875 66.40625 20.328125 58.90625 \r\nQ 16.5 51.421875 16.5 36.375 \r\nQ 16.5 21.390625 20.328125 13.890625 \r\nQ 24.171875 6.390625 31.78125 6.390625 \r\nQ 39.453125 6.390625 43.28125 13.890625 \r\nQ 47.125 21.390625 47.125 36.375 \r\nQ 47.125 51.421875 43.28125 58.90625 \r\nQ 39.453125 66.40625 31.78125 66.40625 \r\nz\r\nM 31.78125 74.21875 \r\nQ 44.046875 74.21875 50.515625 64.515625 \r\nQ 56.984375 54.828125 56.984375 36.375 \r\nQ 56.984375 17.96875 50.515625 8.265625 \r\nQ 44.046875 -1.421875 31.78125 -1.421875 \r\nQ 19.53125 -1.421875 13.0625 8.265625 \r\nQ 6.59375 17.96875 6.59375 36.375 \r\nQ 6.59375 54.828125 13.0625 64.515625 \r\nQ 19.53125 74.21875 31.78125 74.21875 \r\nz\r\n\" id=\"DejaVuSans-48\"/>\r\n       </defs>\r\n       <use xlink:href=\"#DejaVuSans-48\"/>\r\n      </g>\r\n     </g>\r\n    </g>\r\n    <g id=\"xtick_2\">\r\n     <g id=\"line2d_2\">\r\n      <g>\r\n       <use style=\"stroke:#000000;stroke-width:0.8;\" x=\"79.0405\" xlink:href=\"#mf641d99d6a\" y=\"227.986219\"/>\r\n      </g>\r\n     </g>\r\n     <g id=\"text_2\">\r\n      <!-- 50 -->\r\n      <g transform=\"translate(72.678 242.584656)scale(0.1 -0.1)\">\r\n       <defs>\r\n        <path d=\"M 10.796875 72.90625 \r\nL 49.515625 72.90625 \r\nL 49.515625 64.59375 \r\nL 19.828125 64.59375 \r\nL 19.828125 46.734375 \r\nQ 21.96875 47.46875 24.109375 47.828125 \r\nQ 26.265625 48.1875 28.421875 48.1875 \r\nQ 40.625 48.1875 47.75 41.5 \r\nQ 54.890625 34.8125 54.890625 23.390625 \r\nQ 54.890625 11.625 47.5625 5.09375 \r\nQ 40.234375 -1.421875 26.90625 -1.421875 \r\nQ 22.3125 -1.421875 17.546875 -0.640625 \r\nQ 12.796875 0.140625 7.71875 1.703125 \r\nL 7.71875 11.625 \r\nQ 12.109375 9.234375 16.796875 8.0625 \r\nQ 21.484375 6.890625 26.703125 6.890625 \r\nQ 35.15625 6.890625 40.078125 11.328125 \r\nQ 45.015625 15.765625 45.015625 23.390625 \r\nQ 45.015625 31 40.078125 35.4375 \r\nQ 35.15625 39.890625 26.703125 39.890625 \r\nQ 22.75 39.890625 18.8125 39.015625 \r\nQ 14.890625 38.140625 10.796875 36.28125 \r\nz\r\n\" id=\"DejaVuSans-53\"/>\r\n       </defs>\r\n       <use xlink:href=\"#DejaVuSans-53\"/>\r\n       <use x=\"63.623047\" xlink:href=\"#DejaVuSans-48\"/>\r\n      </g>\r\n     </g>\r\n    </g>\r\n    <g id=\"xtick_3\">\r\n     <g id=\"line2d_3\">\r\n      <g>\r\n       <use style=\"stroke:#000000;stroke-width:0.8;\" x=\"124.3405\" xlink:href=\"#mf641d99d6a\" y=\"227.986219\"/>\r\n      </g>\r\n     </g>\r\n     <g id=\"text_3\">\r\n      <!-- 100 -->\r\n      <g transform=\"translate(114.79675 242.584656)scale(0.1 -0.1)\">\r\n       <defs>\r\n        <path d=\"M 12.40625 8.296875 \r\nL 28.515625 8.296875 \r\nL 28.515625 63.921875 \r\nL 10.984375 60.40625 \r\nL 10.984375 69.390625 \r\nL 28.421875 72.90625 \r\nL 38.28125 72.90625 \r\nL 38.28125 8.296875 \r\nL 54.390625 8.296875 \r\nL 54.390625 0 \r\nL 12.40625 0 \r\nz\r\n\" id=\"DejaVuSans-49\"/>\r\n       </defs>\r\n       <use xlink:href=\"#DejaVuSans-49\"/>\r\n       <use x=\"63.623047\" xlink:href=\"#DejaVuSans-48\"/>\r\n       <use x=\"127.246094\" xlink:href=\"#DejaVuSans-48\"/>\r\n      </g>\r\n     </g>\r\n    </g>\r\n    <g id=\"xtick_4\">\r\n     <g id=\"line2d_4\">\r\n      <g>\r\n       <use style=\"stroke:#000000;stroke-width:0.8;\" x=\"169.6405\" xlink:href=\"#mf641d99d6a\" y=\"227.986219\"/>\r\n      </g>\r\n     </g>\r\n     <g id=\"text_4\">\r\n      <!-- 150 -->\r\n      <g transform=\"translate(160.09675 242.584656)scale(0.1 -0.1)\">\r\n       <use xlink:href=\"#DejaVuSans-49\"/>\r\n       <use x=\"63.623047\" xlink:href=\"#DejaVuSans-53\"/>\r\n       <use x=\"127.246094\" xlink:href=\"#DejaVuSans-48\"/>\r\n      </g>\r\n     </g>\r\n    </g>\r\n    <g id=\"xtick_5\">\r\n     <g id=\"line2d_5\">\r\n      <g>\r\n       <use style=\"stroke:#000000;stroke-width:0.8;\" x=\"214.9405\" xlink:href=\"#mf641d99d6a\" y=\"227.986219\"/>\r\n      </g>\r\n     </g>\r\n     <g id=\"text_5\">\r\n      <!-- 200 -->\r\n      <g transform=\"translate(205.39675 242.584656)scale(0.1 -0.1)\">\r\n       <defs>\r\n        <path d=\"M 19.1875 8.296875 \r\nL 53.609375 8.296875 \r\nL 53.609375 0 \r\nL 7.328125 0 \r\nL 7.328125 8.296875 \r\nQ 12.9375 14.109375 22.625 23.890625 \r\nQ 32.328125 33.6875 34.8125 36.53125 \r\nQ 39.546875 41.84375 41.421875 45.53125 \r\nQ 43.3125 49.21875 43.3125 52.78125 \r\nQ 43.3125 58.59375 39.234375 62.25 \r\nQ 35.15625 65.921875 28.609375 65.921875 \r\nQ 23.96875 65.921875 18.8125 64.3125 \r\nQ 13.671875 62.703125 7.8125 59.421875 \r\nL 7.8125 69.390625 \r\nQ 13.765625 71.78125 18.9375 73 \r\nQ 24.125 74.21875 28.421875 74.21875 \r\nQ 39.75 74.21875 46.484375 68.546875 \r\nQ 53.21875 62.890625 53.21875 53.421875 \r\nQ 53.21875 48.921875 51.53125 44.890625 \r\nQ 49.859375 40.875 45.40625 35.40625 \r\nQ 44.1875 33.984375 37.640625 27.21875 \r\nQ 31.109375 20.453125 19.1875 8.296875 \r\nz\r\n\" id=\"DejaVuSans-50\"/>\r\n       </defs>\r\n       <use xlink:href=\"#DejaVuSans-50\"/>\r\n       <use x=\"63.623047\" xlink:href=\"#DejaVuSans-48\"/>\r\n       <use x=\"127.246094\" xlink:href=\"#DejaVuSans-48\"/>\r\n      </g>\r\n     </g>\r\n    </g>\r\n   </g>\r\n   <g id=\"matplotlib.axis_2\">\r\n    <g id=\"ytick_1\">\r\n     <g id=\"line2d_6\">\r\n      <defs>\r\n       <path d=\"M 0 0 \r\nL -3.5 0 \r\n\" id=\"m849f82a76a\" style=\"stroke:#000000;stroke-width:0.8;\"/>\r\n      </defs>\r\n      <g>\r\n       <use style=\"stroke:#000000;stroke-width:0.8;\" x=\"33.2875\" xlink:href=\"#m849f82a76a\" y=\"10.999219\"/>\r\n      </g>\r\n     </g>\r\n     <g id=\"text_6\">\r\n      <!-- 0 -->\r\n      <g transform=\"translate(19.925 14.798437)scale(0.1 -0.1)\">\r\n       <use xlink:href=\"#DejaVuSans-48\"/>\r\n      </g>\r\n     </g>\r\n    </g>\r\n    <g id=\"ytick_2\">\r\n     <g id=\"line2d_7\">\r\n      <g>\r\n       <use style=\"stroke:#000000;stroke-width:0.8;\" x=\"33.2875\" xlink:href=\"#m849f82a76a\" y=\"56.299219\"/>\r\n      </g>\r\n     </g>\r\n     <g id=\"text_7\">\r\n      <!-- 50 -->\r\n      <g transform=\"translate(13.5625 60.098437)scale(0.1 -0.1)\">\r\n       <use xlink:href=\"#DejaVuSans-53\"/>\r\n       <use x=\"63.623047\" xlink:href=\"#DejaVuSans-48\"/>\r\n      </g>\r\n     </g>\r\n    </g>\r\n    <g id=\"ytick_3\">\r\n     <g id=\"line2d_8\">\r\n      <g>\r\n       <use style=\"stroke:#000000;stroke-width:0.8;\" x=\"33.2875\" xlink:href=\"#m849f82a76a\" y=\"101.599219\"/>\r\n      </g>\r\n     </g>\r\n     <g id=\"text_8\">\r\n      <!-- 100 -->\r\n      <g transform=\"translate(7.2 105.398437)scale(0.1 -0.1)\">\r\n       <use xlink:href=\"#DejaVuSans-49\"/>\r\n       <use x=\"63.623047\" xlink:href=\"#DejaVuSans-48\"/>\r\n       <use x=\"127.246094\" xlink:href=\"#DejaVuSans-48\"/>\r\n      </g>\r\n     </g>\r\n    </g>\r\n    <g id=\"ytick_4\">\r\n     <g id=\"line2d_9\">\r\n      <g>\r\n       <use style=\"stroke:#000000;stroke-width:0.8;\" x=\"33.2875\" xlink:href=\"#m849f82a76a\" y=\"146.899219\"/>\r\n      </g>\r\n     </g>\r\n     <g id=\"text_9\">\r\n      <!-- 150 -->\r\n      <g transform=\"translate(7.2 150.698437)scale(0.1 -0.1)\">\r\n       <use xlink:href=\"#DejaVuSans-49\"/>\r\n       <use x=\"63.623047\" xlink:href=\"#DejaVuSans-53\"/>\r\n       <use x=\"127.246094\" xlink:href=\"#DejaVuSans-48\"/>\r\n      </g>\r\n     </g>\r\n    </g>\r\n    <g id=\"ytick_5\">\r\n     <g id=\"line2d_10\">\r\n      <g>\r\n       <use style=\"stroke:#000000;stroke-width:0.8;\" x=\"33.2875\" xlink:href=\"#m849f82a76a\" y=\"192.199219\"/>\r\n      </g>\r\n     </g>\r\n     <g id=\"text_10\">\r\n      <!-- 200 -->\r\n      <g transform=\"translate(7.2 195.998437)scale(0.1 -0.1)\">\r\n       <use xlink:href=\"#DejaVuSans-50\"/>\r\n       <use x=\"63.623047\" xlink:href=\"#DejaVuSans-48\"/>\r\n       <use x=\"127.246094\" xlink:href=\"#DejaVuSans-48\"/>\r\n      </g>\r\n     </g>\r\n    </g>\r\n   </g>\r\n   <g id=\"patch_3\">\r\n    <path d=\"M 33.2875 227.986219 \r\nL 33.2875 10.546219 \r\n\" style=\"fill:none;stroke:#000000;stroke-linecap:square;stroke-linejoin:miter;stroke-width:0.8;\"/>\r\n   </g>\r\n   <g id=\"patch_4\">\r\n    <path d=\"M 250.7275 227.986219 \r\nL 250.7275 10.546219 \r\n\" style=\"fill:none;stroke:#000000;stroke-linecap:square;stroke-linejoin:miter;stroke-width:0.8;\"/>\r\n   </g>\r\n   <g id=\"patch_5\">\r\n    <path d=\"M 33.2875 227.986219 \r\nL 250.7275 227.986219 \r\n\" style=\"fill:none;stroke:#000000;stroke-linecap:square;stroke-linejoin:miter;stroke-width:0.8;\"/>\r\n   </g>\r\n   <g id=\"patch_6\">\r\n    <path d=\"M 33.2875 10.546219 \r\nL 250.7275 10.546219 \r\n\" style=\"fill:none;stroke:#000000;stroke-linecap:square;stroke-linejoin:miter;stroke-width:0.8;\"/>\r\n   </g>\r\n  </g>\r\n </g>\r\n <defs>\r\n  <clipPath id=\"p4ff68ff772\">\r\n   <rect height=\"217.44\" width=\"217.44\" x=\"33.2875\" y=\"10.546219\"/>\r\n  </clipPath>\r\n </defs>\r\n</svg>\r\n",
      "image/png": "[encoded data removed]"
     },
     "metadata": {
      "needs_background": "light"
     }
    }
   ],
   "source": [
    "plt.imshow(image_1_data_arr[:,:,95,0], cmap='gray'); # plotting the FLAIR (0th dimension) of the 106th frame of the 1st training image FLAIR - 0, T1w - 1, T1gd - 2, T2w - 3"
   ]
  },
  {
   "source": [
    "## Initial investigation of the label for the first training image"
   ],
   "cell_type": "markdown",
   "metadata": {}
  },
  {
   "cell_type": "code",
   "execution_count": 12,
   "metadata": {},
   "outputs": [],
   "source": [
    "image_1_label = os.path.join('data\\\\train_labels\\\\BRATS_001.nii.gz') # accessing the label for the first training image"
   ]
  },
  {
   "cell_type": "code",
   "execution_count": 13,
   "metadata": {},
   "outputs": [],
   "source": [
    "image_1_label = nib.load(image_1_label) # loading the label for the first training image"
   ]
  },
  {
   "cell_type": "code",
   "execution_count": 14,
   "metadata": {},
   "outputs": [
    {
     "output_type": "execute_result",
     "data": {
      "text/plain": [
       "(240, 240, 155)"
      ]
     },
     "metadata": {},
     "execution_count": 14
    }
   ],
   "source": [
    "image_1_label.shape # investigating the shape (240x240 pixels), 155 frames each frame represents the pixels where the tumour is present as demonstrated below "
   ]
  },
  {
   "cell_type": "code",
   "execution_count": 15,
   "metadata": {},
   "outputs": [
    {
     "output_type": "stream",
     "name": "stdout",
     "text": [
      "<class 'nibabel.nifti1.Nifti1Image'>\ndata shape (240, 240, 155)\naffine: \n[[1. 0. 0. 0.]\n [0. 1. 0. 0.]\n [0. 0. 1. 0.]\n [0. 0. 0. 1.]]\nmetadata:\n<class 'nibabel.nifti1.Nifti1Header'> object, endian='<'\nsizeof_hdr      : 348\ndata_type       : b''\ndb_name         : b''\nextents         : 0\nsession_error   : 0\nregular         : b'r'\ndim_info        : 0\ndim             : [  3 240 240 155   1   1   1   1]\nintent_p1       : 0.0\nintent_p2       : 0.0\nintent_p3       : 0.0\nintent_code     : none\ndatatype        : uint8\nbitpix          : 8\nslice_start     : 0\npixdim          : [1. 1. 1. 1. 1. 0. 0. 0.]\nvox_offset      : 0.0\nscl_slope       : nan\nscl_inter       : nan\nslice_end       : 0\nslice_code      : unknown\nxyzt_units      : 10\ncal_max         : 0.0\ncal_min         : 0.0\nslice_duration  : 0.0\ntoffset         : 0.0\nglmax           : 0\nglmin           : 0\ndescrip         : b'5.0.10'\naux_file        : b'none'\nqform_code      : scanner\nsform_code      : scanner\nquatern_b       : 0.0\nquatern_c       : 0.0\nquatern_d       : 0.0\nqoffset_x       : 0.0\nqoffset_y       : 0.0\nqoffset_z       : 0.0\nsrow_x          : [1. 0. 0. 0.]\nsrow_y          : [0. 1. 0. 0.]\nsrow_z          : [0. 0. 1. 0.]\nintent_name     : b''\nmagic           : b'n+1'\n"
     ]
    }
   ],
   "source": [
    "print(image_1_label) # looking at the header for the label"
   ]
  },
  {
   "cell_type": "code",
   "execution_count": 16,
   "metadata": {},
   "outputs": [],
   "source": [
    "image_1_label_data = image_1_label.get_fdata()"
   ]
  },
  {
   "cell_type": "code",
   "execution_count": 17,
   "metadata": {},
   "outputs": [],
   "source": [
    "image_1_label_data_arr = np.asarray(image_1_label_data) # converting to np array"
   ]
  },
  {
   "cell_type": "code",
   "execution_count": 18,
   "metadata": {},
   "outputs": [
    {
     "output_type": "execute_result",
     "data": {
      "text/plain": [
       "(240, 240, 155)"
      ]
     },
     "metadata": {},
     "execution_count": 18
    }
   ],
   "source": [
    "image_1_label_data_arr.shape # investigating the shape"
   ]
  },
  {
   "source": [
    "plt.imshow(image_1_label_data_arr[:,:,95], cmap='gray'); # plotting the label of the 1st training image - 95th frame shows clearly the tumour"
   ],
   "cell_type": "code",
   "metadata": {},
   "execution_count": 19,
   "outputs": [
    {
     "output_type": "display_data",
     "data": {
      "text/plain": "<Figure size 432x288 with 1 Axes>",
      "image/svg+xml": "<?xml version=\"1.0\" encoding=\"utf-8\" standalone=\"no\"?>\r\n<!DOCTYPE svg PUBLIC \"-//W3C//DTD SVG 1.1//EN\"\r\n  \"http://www.w3.org/Graphics/SVG/1.1/DTD/svg11.dtd\">\r\n<!-- Created with matplotlib (https://matplotlib.org/) -->\r\n<svg height=\"251.864344pt\" version=\"1.1\" viewBox=\"0 0 257.9275 251.864344\" width=\"257.9275pt\" xmlns=\"http://www.w3.org/2000/svg\" xmlns:xlink=\"http://www.w3.org/1999/xlink\">\r\n <metadata>\r\n  <rdf:RDF xmlns:cc=\"http://creativecommons.org/ns#\" xmlns:dc=\"http://purl.org/dc/elements/1.1/\" xmlns:rdf=\"http://www.w3.org/1999/02/22-rdf-syntax-ns#\">\r\n   <cc:Work>\r\n    <dc:type rdf:resource=\"http://purl.org/dc/dcmitype/StillImage\"/>\r\n    <dc:date>2021-02-07T11:25:27.955151</dc:date>\r\n    <dc:format>image/svg+xml</dc:format>\r\n    <dc:creator>\r\n     <cc:Agent>\r\n      <dc:title>Matplotlib v3.3.3, https://matplotlib.org/</dc:title>\r\n     </cc:Agent>\r\n    </dc:creator>\r\n   </cc:Work>\r\n  </rdf:RDF>\r\n </metadata>\r\n <defs>\r\n  <style type=\"text/css\">*{stroke-linecap:butt;stroke-linejoin:round;}</style>\r\n </defs>\r\n <g id=\"figure_1\">\r\n  <g id=\"patch_1\">\r\n   <path d=\"M 0 251.864344 \r\nL 257.9275 251.864344 \r\nL 257.9275 0 \r\nL 0 0 \r\nz\r\n\" style=\"fill:none;\"/>\r\n  </g>\r\n  <g id=\"axes_1\">\r\n   <g id=\"patch_2\">\r\n    <path d=\"M 33.2875 227.986219 \r\nL 250.7275 227.986219 \r\nL 250.7275 10.546219 \r\nL 33.2875 10.546219 \r\nz\r\n\" style=\"fill:#ffffff;\"/>\r\n   </g>\r\n   <g clip-path=\"url(#p04cbd01c05)\">\r\n    <image height=\"218\" id=\"image7acc64d0e7\" transform=\"scale(1 -1)translate(0 -218)\" width=\"218\" x=\"33.2875\" xlink:href=\"data:image/png;base64,\r\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\" y=\"-9.986219\"/>\r\n   </g>\r\n   <g id=\"matplotlib.axis_1\">\r\n    <g id=\"xtick_1\">\r\n     <g id=\"line2d_1\">\r\n      <defs>\r\n       <path d=\"M 0 0 \r\nL 0 3.5 \r\n\" id=\"m580a3e57e7\" style=\"stroke:#000000;stroke-width:0.8;\"/>\r\n      </defs>\r\n      <g>\r\n       <use style=\"stroke:#000000;stroke-width:0.8;\" x=\"33.7405\" xlink:href=\"#m580a3e57e7\" y=\"227.986219\"/>\r\n      </g>\r\n     </g>\r\n     <g id=\"text_1\">\r\n      <!-- 0 -->\r\n      <g transform=\"translate(30.55925 242.584656)scale(0.1 -0.1)\">\r\n       <defs>\r\n        <path d=\"M 31.78125 66.40625 \r\nQ 24.171875 66.40625 20.328125 58.90625 \r\nQ 16.5 51.421875 16.5 36.375 \r\nQ 16.5 21.390625 20.328125 13.890625 \r\nQ 24.171875 6.390625 31.78125 6.390625 \r\nQ 39.453125 6.390625 43.28125 13.890625 \r\nQ 47.125 21.390625 47.125 36.375 \r\nQ 47.125 51.421875 43.28125 58.90625 \r\nQ 39.453125 66.40625 31.78125 66.40625 \r\nz\r\nM 31.78125 74.21875 \r\nQ 44.046875 74.21875 50.515625 64.515625 \r\nQ 56.984375 54.828125 56.984375 36.375 \r\nQ 56.984375 17.96875 50.515625 8.265625 \r\nQ 44.046875 -1.421875 31.78125 -1.421875 \r\nQ 19.53125 -1.421875 13.0625 8.265625 \r\nQ 6.59375 17.96875 6.59375 36.375 \r\nQ 6.59375 54.828125 13.0625 64.515625 \r\nQ 19.53125 74.21875 31.78125 74.21875 \r\nz\r\n\" id=\"DejaVuSans-48\"/>\r\n       </defs>\r\n       <use xlink:href=\"#DejaVuSans-48\"/>\r\n      </g>\r\n     </g>\r\n    </g>\r\n    <g id=\"xtick_2\">\r\n     <g id=\"line2d_2\">\r\n      <g>\r\n       <use style=\"stroke:#000000;stroke-width:0.8;\" x=\"79.0405\" xlink:href=\"#m580a3e57e7\" y=\"227.986219\"/>\r\n      </g>\r\n     </g>\r\n     <g id=\"text_2\">\r\n      <!-- 50 -->\r\n      <g transform=\"translate(72.678 242.584656)scale(0.1 -0.1)\">\r\n       <defs>\r\n        <path d=\"M 10.796875 72.90625 \r\nL 49.515625 72.90625 \r\nL 49.515625 64.59375 \r\nL 19.828125 64.59375 \r\nL 19.828125 46.734375 \r\nQ 21.96875 47.46875 24.109375 47.828125 \r\nQ 26.265625 48.1875 28.421875 48.1875 \r\nQ 40.625 48.1875 47.75 41.5 \r\nQ 54.890625 34.8125 54.890625 23.390625 \r\nQ 54.890625 11.625 47.5625 5.09375 \r\nQ 40.234375 -1.421875 26.90625 -1.421875 \r\nQ 22.3125 -1.421875 17.546875 -0.640625 \r\nQ 12.796875 0.140625 7.71875 1.703125 \r\nL 7.71875 11.625 \r\nQ 12.109375 9.234375 16.796875 8.0625 \r\nQ 21.484375 6.890625 26.703125 6.890625 \r\nQ 35.15625 6.890625 40.078125 11.328125 \r\nQ 45.015625 15.765625 45.015625 23.390625 \r\nQ 45.015625 31 40.078125 35.4375 \r\nQ 35.15625 39.890625 26.703125 39.890625 \r\nQ 22.75 39.890625 18.8125 39.015625 \r\nQ 14.890625 38.140625 10.796875 36.28125 \r\nz\r\n\" id=\"DejaVuSans-53\"/>\r\n       </defs>\r\n       <use xlink:href=\"#DejaVuSans-53\"/>\r\n       <use x=\"63.623047\" xlink:href=\"#DejaVuSans-48\"/>\r\n      </g>\r\n     </g>\r\n    </g>\r\n    <g id=\"xtick_3\">\r\n     <g id=\"line2d_3\">\r\n      <g>\r\n       <use style=\"stroke:#000000;stroke-width:0.8;\" x=\"124.3405\" xlink:href=\"#m580a3e57e7\" y=\"227.986219\"/>\r\n      </g>\r\n     </g>\r\n     <g id=\"text_3\">\r\n      <!-- 100 -->\r\n      <g transform=\"translate(114.79675 242.584656)scale(0.1 -0.1)\">\r\n       <defs>\r\n        <path d=\"M 12.40625 8.296875 \r\nL 28.515625 8.296875 \r\nL 28.515625 63.921875 \r\nL 10.984375 60.40625 \r\nL 10.984375 69.390625 \r\nL 28.421875 72.90625 \r\nL 38.28125 72.90625 \r\nL 38.28125 8.296875 \r\nL 54.390625 8.296875 \r\nL 54.390625 0 \r\nL 12.40625 0 \r\nz\r\n\" id=\"DejaVuSans-49\"/>\r\n       </defs>\r\n       <use xlink:href=\"#DejaVuSans-49\"/>\r\n       <use x=\"63.623047\" xlink:href=\"#DejaVuSans-48\"/>\r\n       <use x=\"127.246094\" xlink:href=\"#DejaVuSans-48\"/>\r\n      </g>\r\n     </g>\r\n    </g>\r\n    <g id=\"xtick_4\">\r\n     <g id=\"line2d_4\">\r\n      <g>\r\n       <use style=\"stroke:#000000;stroke-width:0.8;\" x=\"169.6405\" xlink:href=\"#m580a3e57e7\" y=\"227.986219\"/>\r\n      </g>\r\n     </g>\r\n     <g id=\"text_4\">\r\n      <!-- 150 -->\r\n      <g transform=\"translate(160.09675 242.584656)scale(0.1 -0.1)\">\r\n       <use xlink:href=\"#DejaVuSans-49\"/>\r\n       <use x=\"63.623047\" xlink:href=\"#DejaVuSans-53\"/>\r\n       <use x=\"127.246094\" xlink:href=\"#DejaVuSans-48\"/>\r\n      </g>\r\n     </g>\r\n    </g>\r\n    <g id=\"xtick_5\">\r\n     <g id=\"line2d_5\">\r\n      <g>\r\n       <use style=\"stroke:#000000;stroke-width:0.8;\" x=\"214.9405\" xlink:href=\"#m580a3e57e7\" y=\"227.986219\"/>\r\n      </g>\r\n     </g>\r\n     <g id=\"text_5\">\r\n      <!-- 200 -->\r\n      <g transform=\"translate(205.39675 242.584656)scale(0.1 -0.1)\">\r\n       <defs>\r\n        <path d=\"M 19.1875 8.296875 \r\nL 53.609375 8.296875 \r\nL 53.609375 0 \r\nL 7.328125 0 \r\nL 7.328125 8.296875 \r\nQ 12.9375 14.109375 22.625 23.890625 \r\nQ 32.328125 33.6875 34.8125 36.53125 \r\nQ 39.546875 41.84375 41.421875 45.53125 \r\nQ 43.3125 49.21875 43.3125 52.78125 \r\nQ 43.3125 58.59375 39.234375 62.25 \r\nQ 35.15625 65.921875 28.609375 65.921875 \r\nQ 23.96875 65.921875 18.8125 64.3125 \r\nQ 13.671875 62.703125 7.8125 59.421875 \r\nL 7.8125 69.390625 \r\nQ 13.765625 71.78125 18.9375 73 \r\nQ 24.125 74.21875 28.421875 74.21875 \r\nQ 39.75 74.21875 46.484375 68.546875 \r\nQ 53.21875 62.890625 53.21875 53.421875 \r\nQ 53.21875 48.921875 51.53125 44.890625 \r\nQ 49.859375 40.875 45.40625 35.40625 \r\nQ 44.1875 33.984375 37.640625 27.21875 \r\nQ 31.109375 20.453125 19.1875 8.296875 \r\nz\r\n\" id=\"DejaVuSans-50\"/>\r\n       </defs>\r\n       <use xlink:href=\"#DejaVuSans-50\"/>\r\n       <use x=\"63.623047\" xlink:href=\"#DejaVuSans-48\"/>\r\n       <use x=\"127.246094\" xlink:href=\"#DejaVuSans-48\"/>\r\n      </g>\r\n     </g>\r\n    </g>\r\n   </g>\r\n   <g id=\"matplotlib.axis_2\">\r\n    <g id=\"ytick_1\">\r\n     <g id=\"line2d_6\">\r\n      <defs>\r\n       <path d=\"M 0 0 \r\nL -3.5 0 \r\n\" id=\"m12c98af89c\" style=\"stroke:#000000;stroke-width:0.8;\"/>\r\n      </defs>\r\n      <g>\r\n       <use style=\"stroke:#000000;stroke-width:0.8;\" x=\"33.2875\" xlink:href=\"#m12c98af89c\" y=\"10.999219\"/>\r\n      </g>\r\n     </g>\r\n     <g id=\"text_6\">\r\n      <!-- 0 -->\r\n      <g transform=\"translate(19.925 14.798437)scale(0.1 -0.1)\">\r\n       <use xlink:href=\"#DejaVuSans-48\"/>\r\n      </g>\r\n     </g>\r\n    </g>\r\n    <g id=\"ytick_2\">\r\n     <g id=\"line2d_7\">\r\n      <g>\r\n       <use style=\"stroke:#000000;stroke-width:0.8;\" x=\"33.2875\" xlink:href=\"#m12c98af89c\" y=\"56.299219\"/>\r\n      </g>\r\n     </g>\r\n     <g id=\"text_7\">\r\n      <!-- 50 -->\r\n      <g transform=\"translate(13.5625 60.098437)scale(0.1 -0.1)\">\r\n       <use xlink:href=\"#DejaVuSans-53\"/>\r\n       <use x=\"63.623047\" xlink:href=\"#DejaVuSans-48\"/>\r\n      </g>\r\n     </g>\r\n    </g>\r\n    <g id=\"ytick_3\">\r\n     <g id=\"line2d_8\">\r\n      <g>\r\n       <use style=\"stroke:#000000;stroke-width:0.8;\" x=\"33.2875\" xlink:href=\"#m12c98af89c\" y=\"101.599219\"/>\r\n      </g>\r\n     </g>\r\n     <g id=\"text_8\">\r\n      <!-- 100 -->\r\n      <g transform=\"translate(7.2 105.398437)scale(0.1 -0.1)\">\r\n       <use xlink:href=\"#DejaVuSans-49\"/>\r\n       <use x=\"63.623047\" xlink:href=\"#DejaVuSans-48\"/>\r\n       <use x=\"127.246094\" xlink:href=\"#DejaVuSans-48\"/>\r\n      </g>\r\n     </g>\r\n    </g>\r\n    <g id=\"ytick_4\">\r\n     <g id=\"line2d_9\">\r\n      <g>\r\n       <use style=\"stroke:#000000;stroke-width:0.8;\" x=\"33.2875\" xlink:href=\"#m12c98af89c\" y=\"146.899219\"/>\r\n      </g>\r\n     </g>\r\n     <g id=\"text_9\">\r\n      <!-- 150 -->\r\n      <g transform=\"translate(7.2 150.698437)scale(0.1 -0.1)\">\r\n       <use xlink:href=\"#DejaVuSans-49\"/>\r\n       <use x=\"63.623047\" xlink:href=\"#DejaVuSans-53\"/>\r\n       <use x=\"127.246094\" xlink:href=\"#DejaVuSans-48\"/>\r\n      </g>\r\n     </g>\r\n    </g>\r\n    <g id=\"ytick_5\">\r\n     <g id=\"line2d_10\">\r\n      <g>\r\n       <use style=\"stroke:#000000;stroke-width:0.8;\" x=\"33.2875\" xlink:href=\"#m12c98af89c\" y=\"192.199219\"/>\r\n      </g>\r\n     </g>\r\n     <g id=\"text_10\">\r\n      <!-- 200 -->\r\n      <g transform=\"translate(7.2 195.998437)scale(0.1 -0.1)\">\r\n       <use xlink:href=\"#DejaVuSans-50\"/>\r\n       <use x=\"63.623047\" xlink:href=\"#DejaVuSans-48\"/>\r\n       <use x=\"127.246094\" xlink:href=\"#DejaVuSans-48\"/>\r\n      </g>\r\n     </g>\r\n    </g>\r\n   </g>\r\n   <g id=\"patch_3\">\r\n    <path d=\"M 33.2875 227.986219 \r\nL 33.2875 10.546219 \r\n\" style=\"fill:none;stroke:#000000;stroke-linecap:square;stroke-linejoin:miter;stroke-width:0.8;\"/>\r\n   </g>\r\n   <g id=\"patch_4\">\r\n    <path d=\"M 250.7275 227.986219 \r\nL 250.7275 10.546219 \r\n\" style=\"fill:none;stroke:#000000;stroke-linecap:square;stroke-linejoin:miter;stroke-width:0.8;\"/>\r\n   </g>\r\n   <g id=\"patch_5\">\r\n    <path d=\"M 33.2875 227.986219 \r\nL 250.7275 227.986219 \r\n\" style=\"fill:none;stroke:#000000;stroke-linecap:square;stroke-linejoin:miter;stroke-width:0.8;\"/>\r\n   </g>\r\n   <g id=\"patch_6\">\r\n    <path d=\"M 33.2875 10.546219 \r\nL 250.7275 10.546219 \r\n\" style=\"fill:none;stroke:#000000;stroke-linecap:square;stroke-linejoin:miter;stroke-width:0.8;\"/>\r\n   </g>\r\n  </g>\r\n </g>\r\n <defs>\r\n  <clipPath id=\"p04cbd01c05\">\r\n   <rect height=\"217.44\" width=\"217.44\" x=\"33.2875\" y=\"10.546219\"/>\r\n  </clipPath>\r\n </defs>\r\n</svg>\r\n",
      "image/png": "[encoded data removed]"
     },
     "metadata": {
      "needs_background": "light"
     }
    }
   ]
  },
  {
   "source": [
    "#img = Image.fromarray(img_data_arr[:,:,15,0], 'L')\n",
    "#img.save(\"image.jpeg\")"
   ],
   "cell_type": "code",
   "metadata": {},
   "execution_count": null,
   "outputs": []
  },
  {
   "cell_type": "code",
   "execution_count": null,
   "metadata": {},
   "outputs": [],
   "source": [
    "#np.set_printoptions(threshold=sys.maxsize)\n",
    "#image_1_label_data[130:, 130:, 55]     # can see 0, 1, 2, 3 in the numpy array - this corresponds to the 4 classes"
   ]
  },
  {
   "source": [
    "## Data Preprocessing - Starting from scratch kinda\n",
    "\n",
    "Summary of steps to perform: \n",
    "- N4ITK bias correction\n",
    "- 1% of the top and bottom intensities removed\n",
    "- Normalise to 0 mean and unit variance\n",
    "- Data Augmentation (rotation, shearing etc.) to generate more data points from 484 Labelled MRIs with tumours, helps with generalisation\n",
    "- Train/val/test split "
   ],
   "cell_type": "markdown",
   "metadata": {}
  },
  {
   "source": [
    "# importing new packagesfor visualisation\n",
    "import SimpleITK as sitk    # for n4itk bias correction?\n",
    "import itk                  # visualisation in jupyter\n",
    "import itkwidgets\n",
    "from ipywidgets import interact, interactive, IntSlider, ToggleButtons\n",
    "import seaborn as sns\n",
    "sns.set_style('darkgrid')"
   ],
   "cell_type": "code",
   "metadata": {},
   "execution_count": 4,
   "outputs": []
  },
  {
   "cell_type": "code",
   "execution_count": 5,
   "metadata": {},
   "outputs": [],
   "source": [
    "image_1 = os.path.join('data\\\\train\\\\BRATS_001.nii.gz') # accessing the first training image"
   ]
  },
  {
   "cell_type": "code",
   "execution_count": 6,
   "metadata": {},
   "outputs": [],
   "source": [
    "image_1 = nib.load(image_1) # loading the training image"
   ]
  },
  {
   "cell_type": "code",
   "execution_count": 7,
   "metadata": {},
   "outputs": [],
   "source": [
    "image_1_data = image_1.get_fdata() # converting to np array"
   ]
  },
  {
   "cell_type": "code",
   "execution_count": 9,
   "metadata": {},
   "outputs": [
    {
     "output_type": "stream",
     "name": "stdout",
     "text": [
      "This image has the following dimensions: \nHeight = 240\nWidth = 240\nDepth = 155\nChannels = 4\n"
     ]
    }
   ],
   "source": [
    "height, width, depth, channels = image_1_data.shape         # getting the dimensions\n",
    "print(f'This image has the following dimensions: \\nHeight = {height}\\nWidth = {width}\\nDepth = {depth}\\nChannels = {channels}')"
   ]
  },
  {
   "source": [
    "def visualisation(layer):                   # function that allows interaction to view all layers of an MRI\n",
    "    plt.figure(figsize=(5,5))\n",
    "    channel = 0\n",
    "    plt.imshow(image_1_data[:,:, layer, channel], cmap='gray')\n",
    "    plt.title('Visualisation of Layers of Brain MRI', family='Arial', fontsize=20)\n",
    "    plt.axis('off')\n",
    "    return layer\n",
    "\n",
    "interact(visualisation, layer = (0, image_1_data.shape[2]-1));"
   ],
   "cell_type": "code",
   "metadata": {},
   "execution_count": 10,
   "outputs": [
    {
     "output_type": "display_data",
     "data": {
      "text/plain": "interactive(children=(IntSlider(value=77, description='layer', max=154), Output()), _dom_classes=('widget-inte…",
      "application/vnd.jupyter.widget-view+json": {
       "version_major": 2,
       "version_minor": 0,
       "model_id": "caa0bdac35e245fcb069a00bc67c8934"
      }
     },
     "metadata": {}
    }
   ]
  },
  {
   "cell_type": "code",
   "execution_count": 11,
   "metadata": {},
   "outputs": [],
   "source": [
    "## Doing the same as above for the labels\n",
    "image_1_label = os.path.join('data\\\\train_labels\\\\BRATS_001.nii.gz') # accessing the label for the first training image\n",
    "image_1_label = nib.load(image_1_label) # loading the label for the first training image\n",
    "image_1_label_data = image_1_label.get_fdata()"
   ]
  },
  {
   "cell_type": "code",
   "execution_count": 12,
   "metadata": {},
   "outputs": [
    {
     "output_type": "stream",
     "name": "stdout",
     "text": [
      "The image has the following dimensions: \nHeight = 240\nWidth = 240\nDepth = 155.\nWith the unique values: [0. 1. 2. 3.].\nCorresponding to the label categories:             \n 0: for normal,\n 1: for edema,\n 2: for non-enhancing tumour\n 3: for enhancing tumour\n"
     ]
    }
   ],
   "source": [
    "height, width, depth = image_1_label_data.shape         # getting the dimensions\n",
    "print(f'This image has the following dimensions: \\nHeight = {height}\\nWidth = {width}\\nDepth = {depth}.')\n",
    "print(f'With the unique values: {np.unique(image_1_label_data)}.')\n",
    "print('''Corresponding to the label categories:             \n",
    " 0: for normal,\n",
    " 1: for edema,\n",
    " 2: for non-enhancing tumour\n",
    " 3: for enhancing tumour''')                            # outlining the labels"
   ]
  },
  {
   "cell_type": "code",
   "execution_count": 15,
   "metadata": {},
   "outputs": [
    {
     "output_type": "display_data",
     "data": {
      "text/plain": "interactive(children=(ToggleButtons(button_style='info', description='Select Class:', options=('Normal', 'Edem…",
      "application/vnd.jupyter.widget-view+json": {
       "version_major": 2,
       "version_minor": 0,
       "model_id": "77ee3bb05dca4c9891f3f25829858a6b"
      }
     },
     "metadata": {}
    }
   ],
   "source": [
    "classes = {\n",
    "    'Normal' : 0.,\n",
    "    'Edema' : 1.,\n",
    "    'Non-enhancing Tumour' : 2.,\n",
    "    'Enhancing Tumour' : 3.,\n",
    "}\n",
    "select_class = ToggleButtons(\n",
    "    options = ['Normal','Edema', 'Non-enhancing Tumour', 'Enhancing Tumour'],\n",
    "    description = 'Select Class:',\n",
    "    disabled = False,\n",
    "    button_style = 'info', \n",
    "    \n",
    ")\n",
    "select_layer = IntSlider(min=0, max=154, description='Select Layer', continuous_update=False)\n",
    "\n",
    "def plot_image(seg_class, layer):\n",
    "    print(f\"Plotting {layer} Layer Label: {seg_class}\")\n",
    "    img_label = classes[seg_class]\n",
    "    mask = np.where(image_1_label_data[:,:, layer] == img_label, 255, 0)\n",
    "    plt.figure(figsize=(10,5))\n",
    "    plt.imshow(mask, cmap='gray')\n",
    "    plt.axis('off');\n",
    "\n",
    "interactive(plot_image, seg_class = select_class, layer = select_layer) # remember the white space represents what is being shown"
   ]
  },
  {
   "cell_type": "code",
   "execution_count": 17,
   "metadata": {},
   "outputs": [
    {
     "output_type": "execute_result",
     "data": {
      "text/plain": [
       "array([0., 1., 2., 3.])"
      ]
     },
     "metadata": {},
     "execution_count": 17
    }
   ],
   "source": [
    "np.unique(image_1_label_data[:,:, 55])"
   ]
  },
  {
   "cell_type": "markdown",
   "metadata": {},
   "source": [
    "## U-Net"
   ]
  },
  {
   "cell_type": "markdown",
   "metadata": {},
   "source": [
    "## Evaluation of U-Net"
   ]
  },
  {
   "cell_type": "markdown",
   "metadata": {},
   "source": [
    "## Fully Convolutional Network"
   ]
  },
  {
   "cell_type": "markdown",
   "metadata": {},
   "source": [
    "## Evaluation of Fully Convolutional Network\n"
   ]
  },
  {
   "cell_type": "code",
   "execution_count": null,
   "metadata": {},
   "outputs": [],
   "source": [
    "layer = 55\n",
    "classes_dict = {\n",
    "    'Normal' : 0.,\n",
    "    'Edema' : 1.,\n",
    "    'Non-enhancing Tumour' : 2.,\n",
    "    'Enhancing Tumour' : 3.,\n",
    "}\n",
    "fig, ax = plt.subplots(nrows=1, ncols=4, figsize=(20, 25))\n",
    "for i in range(4):\n",
    "    image_1_label_str = list(classes_dict.keys())[i]\n",
    "    image = image_1_label_data[:,:, layer]\n",
    "    mask = np.where(image == classes_dict[image_1_label_str], 255, 0)\n",
    "    ax[i].imshow(mask)\n",
    "    ax[i].set_title(f'Layer {layer} for {image_1_label_str}', fontsize=20, family='Arial')\n",
    "    ax[i].axis('off')\n",
    "plt.tight_layout()"
   ]
  }
 ],
 "metadata": {
  "kernelspec": {
   "name": "python3",
   "display_name": "Python 3.8.7 64-bit",
   "metadata": {
    "interpreter": {
     "hash": "2db524e06e9f5f4ffedc911c917cb75e12dbc923643829bf417064a77eb14d37"
    }
   }
  },
  "language_info": {
   "codemirror_mode": {
    "name": "ipython",
    "version": 3
   },
   "file_extension": ".py",
   "mimetype": "text/x-python",
   "name": "python",
   "nbconvert_exporter": "python",
   "pygments_lexer": "ipython3",
   "version": "3.8.7-final"
  }
 },
 "nbformat": 4,
 "nbformat_minor": 2
}